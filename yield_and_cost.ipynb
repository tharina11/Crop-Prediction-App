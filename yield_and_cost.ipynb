{
 "cells": [
  {
   "cell_type": "code",
   "execution_count": 1,
   "metadata": {},
   "outputs": [],
   "source": [
    "# Import libraries\n",
    "import pandas as pd\n",
    "import numpy as np\n",
    "import matplotlib.pyplot as plt\n",
    "import seaborn as sns\n",
    "from sklearn.model_selection import train_test_split"
   ]
  },
  {
   "cell_type": "code",
   "execution_count": 2,
   "metadata": {},
   "outputs": [],
   "source": [
    "# import data\n",
    "df= pd.read_csv('cost_and_yield.csv')"
   ]
  },
  {
   "cell_type": "code",
   "execution_count": 3,
   "metadata": {},
   "outputs": [
    {
     "data": {
      "text/html": [
       "<div>\n",
       "<style scoped>\n",
       "    .dataframe tbody tr th:only-of-type {\n",
       "        vertical-align: middle;\n",
       "    }\n",
       "\n",
       "    .dataframe tbody tr th {\n",
       "        vertical-align: top;\n",
       "    }\n",
       "\n",
       "    .dataframe thead th {\n",
       "        text-align: right;\n",
       "    }\n",
       "</style>\n",
       "<table border=\"1\" class=\"dataframe\">\n",
       "  <thead>\n",
       "    <tr style=\"text-align: right;\">\n",
       "      <th></th>\n",
       "      <th>Crop</th>\n",
       "      <th>State</th>\n",
       "      <th>Cost of Cultivation (`/Hectare) A2+FL</th>\n",
       "      <th>Cost of Cultivation (`/Hectare) C2</th>\n",
       "      <th>Cost of Production (`/Quintal) C2</th>\n",
       "      <th>Yield (Quintal/ Hectare)</th>\n",
       "    </tr>\n",
       "  </thead>\n",
       "  <tbody>\n",
       "    <tr>\n",
       "      <th>0</th>\n",
       "      <td>ARHAR</td>\n",
       "      <td>Uttar Pradesh</td>\n",
       "      <td>9794.05</td>\n",
       "      <td>23076.74</td>\n",
       "      <td>1941.55</td>\n",
       "      <td>9.83</td>\n",
       "    </tr>\n",
       "    <tr>\n",
       "      <th>1</th>\n",
       "      <td>ARHAR</td>\n",
       "      <td>Karnataka</td>\n",
       "      <td>10593.15</td>\n",
       "      <td>16528.68</td>\n",
       "      <td>2172.46</td>\n",
       "      <td>7.47</td>\n",
       "    </tr>\n",
       "    <tr>\n",
       "      <th>2</th>\n",
       "      <td>ARHAR</td>\n",
       "      <td>Gujarat</td>\n",
       "      <td>13468.82</td>\n",
       "      <td>19551.90</td>\n",
       "      <td>1898.30</td>\n",
       "      <td>9.59</td>\n",
       "    </tr>\n",
       "    <tr>\n",
       "      <th>3</th>\n",
       "      <td>ARHAR</td>\n",
       "      <td>Andhra Pradesh</td>\n",
       "      <td>17051.66</td>\n",
       "      <td>24171.65</td>\n",
       "      <td>3670.54</td>\n",
       "      <td>6.42</td>\n",
       "    </tr>\n",
       "    <tr>\n",
       "      <th>4</th>\n",
       "      <td>ARHAR</td>\n",
       "      <td>Maharashtra</td>\n",
       "      <td>17130.55</td>\n",
       "      <td>25270.26</td>\n",
       "      <td>2775.80</td>\n",
       "      <td>8.72</td>\n",
       "    </tr>\n",
       "  </tbody>\n",
       "</table>\n",
       "</div>"
      ],
      "text/plain": [
       "    Crop           State  Cost of Cultivation (`/Hectare) A2+FL  \\\n",
       "0  ARHAR   Uttar Pradesh                                9794.05   \n",
       "1  ARHAR       Karnataka                               10593.15   \n",
       "2  ARHAR         Gujarat                               13468.82   \n",
       "3  ARHAR  Andhra Pradesh                               17051.66   \n",
       "4  ARHAR     Maharashtra                               17130.55   \n",
       "\n",
       "   Cost of Cultivation (`/Hectare) C2  Cost of Production (`/Quintal) C2  \\\n",
       "0                            23076.74                            1941.55   \n",
       "1                            16528.68                            2172.46   \n",
       "2                            19551.90                            1898.30   \n",
       "3                            24171.65                            3670.54   \n",
       "4                            25270.26                            2775.80   \n",
       "\n",
       "   Yield (Quintal/ Hectare)   \n",
       "0                       9.83  \n",
       "1                       7.47  \n",
       "2                       9.59  \n",
       "3                       6.42  \n",
       "4                       8.72  "
      ]
     },
     "execution_count": 3,
     "metadata": {},
     "output_type": "execute_result"
    }
   ],
   "source": [
    "# View first five rows of data\n",
    "df.head()"
   ]
  },
  {
   "cell_type": "code",
   "execution_count": 4,
   "metadata": {},
   "outputs": [
    {
     "data": {
      "text/plain": [
       "(49, 6)"
      ]
     },
     "execution_count": 4,
     "metadata": {},
     "output_type": "execute_result"
    }
   ],
   "source": [
    "# Shape of the dataset\n",
    "df.shape"
   ]
  },
  {
   "cell_type": "code",
   "execution_count": 5,
   "metadata": {},
   "outputs": [
    {
     "data": {
      "text/html": [
       "<div>\n",
       "<style scoped>\n",
       "    .dataframe tbody tr th:only-of-type {\n",
       "        vertical-align: middle;\n",
       "    }\n",
       "\n",
       "    .dataframe tbody tr th {\n",
       "        vertical-align: top;\n",
       "    }\n",
       "\n",
       "    .dataframe thead th {\n",
       "        text-align: right;\n",
       "    }\n",
       "</style>\n",
       "<table border=\"1\" class=\"dataframe\">\n",
       "  <thead>\n",
       "    <tr style=\"text-align: right;\">\n",
       "      <th></th>\n",
       "      <th>Cost of Cultivation (`/Hectare) A2+FL</th>\n",
       "      <th>Cost of Cultivation (`/Hectare) C2</th>\n",
       "      <th>Cost of Production (`/Quintal) C2</th>\n",
       "      <th>Yield (Quintal/ Hectare)</th>\n",
       "    </tr>\n",
       "  </thead>\n",
       "  <tbody>\n",
       "    <tr>\n",
       "      <th>count</th>\n",
       "      <td>49.000000</td>\n",
       "      <td>49.000000</td>\n",
       "      <td>49.000000</td>\n",
       "      <td>49.000000</td>\n",
       "    </tr>\n",
       "    <tr>\n",
       "      <th>mean</th>\n",
       "      <td>20363.537347</td>\n",
       "      <td>31364.666735</td>\n",
       "      <td>1620.537755</td>\n",
       "      <td>98.086735</td>\n",
       "    </tr>\n",
       "    <tr>\n",
       "      <th>std</th>\n",
       "      <td>13561.435306</td>\n",
       "      <td>20095.783569</td>\n",
       "      <td>1104.990472</td>\n",
       "      <td>245.293123</td>\n",
       "    </tr>\n",
       "    <tr>\n",
       "      <th>min</th>\n",
       "      <td>5483.540000</td>\n",
       "      <td>7868.640000</td>\n",
       "      <td>85.790000</td>\n",
       "      <td>1.320000</td>\n",
       "    </tr>\n",
       "    <tr>\n",
       "      <th>25%</th>\n",
       "      <td>12774.410000</td>\n",
       "      <td>19259.840000</td>\n",
       "      <td>732.620000</td>\n",
       "      <td>9.590000</td>\n",
       "    </tr>\n",
       "    <tr>\n",
       "      <th>50%</th>\n",
       "      <td>17022.000000</td>\n",
       "      <td>25909.050000</td>\n",
       "      <td>1595.560000</td>\n",
       "      <td>13.700000</td>\n",
       "    </tr>\n",
       "    <tr>\n",
       "      <th>75%</th>\n",
       "      <td>24731.060000</td>\n",
       "      <td>35423.480000</td>\n",
       "      <td>2228.970000</td>\n",
       "      <td>36.610000</td>\n",
       "    </tr>\n",
       "    <tr>\n",
       "      <th>max</th>\n",
       "      <td>66335.060000</td>\n",
       "      <td>91442.630000</td>\n",
       "      <td>5777.480000</td>\n",
       "      <td>1015.450000</td>\n",
       "    </tr>\n",
       "  </tbody>\n",
       "</table>\n",
       "</div>"
      ],
      "text/plain": [
       "       Cost of Cultivation (`/Hectare) A2+FL  \\\n",
       "count                              49.000000   \n",
       "mean                            20363.537347   \n",
       "std                             13561.435306   \n",
       "min                              5483.540000   \n",
       "25%                             12774.410000   \n",
       "50%                             17022.000000   \n",
       "75%                             24731.060000   \n",
       "max                             66335.060000   \n",
       "\n",
       "       Cost of Cultivation (`/Hectare) C2  Cost of Production (`/Quintal) C2  \\\n",
       "count                           49.000000                          49.000000   \n",
       "mean                         31364.666735                        1620.537755   \n",
       "std                          20095.783569                        1104.990472   \n",
       "min                           7868.640000                          85.790000   \n",
       "25%                          19259.840000                         732.620000   \n",
       "50%                          25909.050000                        1595.560000   \n",
       "75%                          35423.480000                        2228.970000   \n",
       "max                          91442.630000                        5777.480000   \n",
       "\n",
       "       Yield (Quintal/ Hectare)   \n",
       "count                  49.000000  \n",
       "mean                   98.086735  \n",
       "std                   245.293123  \n",
       "min                     1.320000  \n",
       "25%                     9.590000  \n",
       "50%                    13.700000  \n",
       "75%                    36.610000  \n",
       "max                  1015.450000  "
      ]
     },
     "execution_count": 5,
     "metadata": {},
     "output_type": "execute_result"
    }
   ],
   "source": [
    "# Basic statistics of the data\n",
    "df.describe()"
   ]
  },
  {
   "cell_type": "code",
   "execution_count": 6,
   "metadata": {},
   "outputs": [
    {
     "data": {
      "text/plain": [
       "Crop                                     0\n",
       "State                                    0\n",
       "Cost of Cultivation (`/Hectare) A2+FL    0\n",
       "Cost of Cultivation (`/Hectare) C2       0\n",
       "Cost of Production (`/Quintal) C2        0\n",
       "Yield (Quintal/ Hectare)                 0\n",
       "dtype: int64"
      ]
     },
     "execution_count": 6,
     "metadata": {},
     "output_type": "execute_result"
    }
   ],
   "source": [
    "# check missing values\n",
    "df.isnull().sum()"
   ]
  },
  {
   "cell_type": "code",
   "execution_count": 7,
   "metadata": {},
   "outputs": [
    {
     "data": {
      "text/plain": [
       "array(['ARHAR', 'COTTON', 'GRAM', 'GROUNDNUT', 'MAIZE', 'MOONG', 'PADDY',\n",
       "       'RAPESEED AND MUSTARD', 'SUGARCANE', 'WHEAT'], dtype=object)"
      ]
     },
     "execution_count": 7,
     "metadata": {},
     "output_type": "execute_result"
    }
   ],
   "source": [
    "# Name of the crop types\n",
    "df['Crop'].unique()"
   ]
  },
  {
   "cell_type": "code",
   "execution_count": 8,
   "metadata": {},
   "outputs": [
    {
     "data": {
      "text/plain": [
       "array(['Uttar Pradesh', 'Karnataka', 'Gujarat', 'Andhra Pradesh',\n",
       "       'Maharashtra', 'Punjab', 'Haryana', 'Rajasthan', 'Madhya Pradesh',\n",
       "       'Tamil Nadu', 'Bihar', 'Orissa', 'West Bengal'], dtype=object)"
      ]
     },
     "execution_count": 8,
     "metadata": {},
     "output_type": "execute_result"
    }
   ],
   "source": [
    "# Name of the states\n",
    "df['State'].unique()"
   ]
  },
  {
   "cell_type": "code",
   "execution_count": 9,
   "metadata": {},
   "outputs": [
    {
     "data": {
      "text/plain": [
       "<seaborn.axisgrid.PairGrid at 0x2bf8f4262b0>"
      ]
     },
     "execution_count": 9,
     "metadata": {},
     "output_type": "execute_result"
    },
    {
     "data": {
      "image/png": "[encoded data removed]",
      "text/plain": [
       "<Figure size 720x720 with 20 Axes>"
      ]
     },
     "metadata": {
      "needs_background": "light"
     },
     "output_type": "display_data"
    }
   ],
   "source": [
    "# Scatterplots between each numerical feature\n",
    "sns.pairplot(df)"
   ]
  },
  {
   "cell_type": "code",
   "execution_count": 10,
   "metadata": {},
   "outputs": [
    {
     "data": {
      "text/html": [
       "<div>\n",
       "<style scoped>\n",
       "    .dataframe tbody tr th:only-of-type {\n",
       "        vertical-align: middle;\n",
       "    }\n",
       "\n",
       "    .dataframe tbody tr th {\n",
       "        vertical-align: top;\n",
       "    }\n",
       "\n",
       "    .dataframe thead th {\n",
       "        text-align: right;\n",
       "    }\n",
       "</style>\n",
       "<table border=\"1\" class=\"dataframe\">\n",
       "  <thead>\n",
       "    <tr style=\"text-align: right;\">\n",
       "      <th></th>\n",
       "      <th>Crop</th>\n",
       "      <th>Cost of Cultivation (`/Hectare) A2+FL</th>\n",
       "      <th>Cost of Cultivation (`/Hectare) C2</th>\n",
       "      <th>Cost of Production (`/Quintal) C2</th>\n",
       "      <th>Yield (Quintal/ Hectare)</th>\n",
       "    </tr>\n",
       "  </thead>\n",
       "  <tbody>\n",
       "    <tr>\n",
       "      <th>0</th>\n",
       "      <td>ARHAR</td>\n",
       "      <td>68038.23</td>\n",
       "      <td>108599.23</td>\n",
       "      <td>12458.65</td>\n",
       "      <td>42.03</td>\n",
       "    </tr>\n",
       "    <tr>\n",
       "      <th>1</th>\n",
       "      <td>COTTON</td>\n",
       "      <td>141434.37</td>\n",
       "      <td>214790.99</td>\n",
       "      <td>11359.83</td>\n",
       "      <td>93.86</td>\n",
       "    </tr>\n",
       "    <tr>\n",
       "      <th>2</th>\n",
       "      <td>GRAM</td>\n",
       "      <td>58597.55</td>\n",
       "      <td>96543.87</td>\n",
       "      <td>8963.00</td>\n",
       "      <td>52.79</td>\n",
       "    </tr>\n",
       "    <tr>\n",
       "      <th>3</th>\n",
       "      <td>GROUNDNUT</td>\n",
       "      <td>106413.91</td>\n",
       "      <td>140940.38</td>\n",
       "      <td>13523.19</td>\n",
       "      <td>51.44</td>\n",
       "    </tr>\n",
       "    <tr>\n",
       "      <th>4</th>\n",
       "      <td>MAIZE</td>\n",
       "      <td>83050.75</td>\n",
       "      <td>119186.49</td>\n",
       "      <td>3872.83</td>\n",
       "      <td>153.99</td>\n",
       "    </tr>\n",
       "    <tr>\n",
       "      <th>5</th>\n",
       "      <td>MOONG</td>\n",
       "      <td>35593.35</td>\n",
       "      <td>53881.98</td>\n",
       "      <td>14950.50</td>\n",
       "      <td>20.98</td>\n",
       "    </tr>\n",
       "    <tr>\n",
       "      <th>6</th>\n",
       "      <td>PADDY</td>\n",
       "      <td>114050.70</td>\n",
       "      <td>178841.11</td>\n",
       "      <td>3638.67</td>\n",
       "      <td>231.48</td>\n",
       "    </tr>\n",
       "    <tr>\n",
       "      <th>7</th>\n",
       "      <td>RAPESEED AND MUSTARD</td>\n",
       "      <td>61302.45</td>\n",
       "      <td>106117.16</td>\n",
       "      <td>7077.97</td>\n",
       "      <td>71.60</td>\n",
       "    </tr>\n",
       "    <tr>\n",
       "      <th>8</th>\n",
       "      <td>SUGARCANE</td>\n",
       "      <td>260823.58</td>\n",
       "      <td>398275.13</td>\n",
       "      <td>493.24</td>\n",
       "      <td>3952.48</td>\n",
       "    </tr>\n",
       "    <tr>\n",
       "      <th>9</th>\n",
       "      <td>WHEAT</td>\n",
       "      <td>68508.44</td>\n",
       "      <td>119692.33</td>\n",
       "      <td>3068.47</td>\n",
       "      <td>135.60</td>\n",
       "    </tr>\n",
       "  </tbody>\n",
       "</table>\n",
       "</div>"
      ],
      "text/plain": [
       "                   Crop  Cost of Cultivation (`/Hectare) A2+FL  \\\n",
       "0                 ARHAR                               68038.23   \n",
       "1                COTTON                              141434.37   \n",
       "2                  GRAM                               58597.55   \n",
       "3             GROUNDNUT                              106413.91   \n",
       "4                 MAIZE                               83050.75   \n",
       "5                 MOONG                               35593.35   \n",
       "6                 PADDY                              114050.70   \n",
       "7  RAPESEED AND MUSTARD                               61302.45   \n",
       "8             SUGARCANE                              260823.58   \n",
       "9                 WHEAT                               68508.44   \n",
       "\n",
       "   Cost of Cultivation (`/Hectare) C2  Cost of Production (`/Quintal) C2  \\\n",
       "0                           108599.23                           12458.65   \n",
       "1                           214790.99                           11359.83   \n",
       "2                            96543.87                            8963.00   \n",
       "3                           140940.38                           13523.19   \n",
       "4                           119186.49                            3872.83   \n",
       "5                            53881.98                           14950.50   \n",
       "6                           178841.11                            3638.67   \n",
       "7                           106117.16                            7077.97   \n",
       "8                           398275.13                             493.24   \n",
       "9                           119692.33                            3068.47   \n",
       "\n",
       "   Yield (Quintal/ Hectare)   \n",
       "0                      42.03  \n",
       "1                      93.86  \n",
       "2                      52.79  \n",
       "3                      51.44  \n",
       "4                     153.99  \n",
       "5                      20.98  \n",
       "6                     231.48  \n",
       "7                      71.60  \n",
       "8                    3952.48  \n",
       "9                     135.60  "
      ]
     },
     "execution_count": 10,
     "metadata": {},
     "output_type": "execute_result"
    }
   ],
   "source": [
    "# Group the data based on crop type\n",
    "df1 = pd.DataFrame(df.groupby([\"Crop\"],as_index=False,).sum())\n",
    "df1"
   ]
  },
  {
   "cell_type": "code",
   "execution_count": 11,
   "metadata": {},
   "outputs": [
    {
     "data": {
      "text/plain": [
       "Index(['Crop', 'State', 'Cost of Cultivation (`/Hectare) A2+FL',\n",
       "       'Cost of Cultivation (`/Hectare) C2',\n",
       "       'Cost of Production (`/Quintal) C2', 'Yield (Quintal/ Hectare) '],\n",
       "      dtype='object')"
      ]
     },
     "execution_count": 11,
     "metadata": {},
     "output_type": "execute_result"
    }
   ],
   "source": [
    "df.columns"
   ]
  },
  {
   "cell_type": "code",
   "execution_count": 12,
   "metadata": {},
   "outputs": [
    {
     "data": {
      "text/plain": [
       "<AxesSubplot:xlabel='Crop'>"
      ]
     },
     "execution_count": 12,
     "metadata": {},
     "output_type": "execute_result"
    },
    {
     "data": {
      "image/png": "[encoded data removed]",
      "text/plain": [
       "<Figure size 432x288 with 1 Axes>"
      ]
     },
     "metadata": {
      "needs_background": "light"
     },
     "output_type": "display_data"
    }
   ],
   "source": [
    "# Yield of each crop\n",
    "df1.plot.bar(x='Crop', y='Yield (Quintal/ Hectare) ')"
   ]
  },
  {
   "cell_type": "code",
   "execution_count": 13,
   "metadata": {},
   "outputs": [
    {
     "data": {
      "text/plain": [
       "<AxesSubplot:xlabel='Crop'>"
      ]
     },
     "execution_count": 13,
     "metadata": {},
     "output_type": "execute_result"
    },
    {
     "data": {
      "image/png": "[encoded data removed]",
      "text/plain": [
       "<Figure size 432x288 with 1 Axes>"
      ]
     },
     "metadata": {
      "needs_background": "light"
     },
     "output_type": "display_data"
    }
   ],
   "source": [
    "# Production cost of each crop\n",
    "df1.plot.bar(x='Crop', y='Cost of Production (`/Quintal) C2')"
   ]
  },
  {
   "cell_type": "code",
   "execution_count": 14,
   "metadata": {},
   "outputs": [
    {
     "data": {
      "text/html": [
       "<div>\n",
       "<style scoped>\n",
       "    .dataframe tbody tr th:only-of-type {\n",
       "        vertical-align: middle;\n",
       "    }\n",
       "\n",
       "    .dataframe tbody tr th {\n",
       "        vertical-align: top;\n",
       "    }\n",
       "\n",
       "    .dataframe thead th {\n",
       "        text-align: right;\n",
       "    }\n",
       "</style>\n",
       "<table border=\"1\" class=\"dataframe\">\n",
       "  <thead>\n",
       "    <tr style=\"text-align: right;\">\n",
       "      <th></th>\n",
       "      <th>State</th>\n",
       "      <th>Cost of Cultivation (`/Hectare) A2+FL</th>\n",
       "      <th>Cost of Cultivation (`/Hectare) C2</th>\n",
       "      <th>Cost of Production (`/Quintal) C2</th>\n",
       "      <th>Yield (Quintal/ Hectare)</th>\n",
       "    </tr>\n",
       "  </thead>\n",
       "  <tbody>\n",
       "    <tr>\n",
       "      <th>0</th>\n",
       "      <td>Andhra Pradesh</td>\n",
       "      <td>200500.69</td>\n",
       "      <td>315029.07</td>\n",
       "      <td>14273.65</td>\n",
       "      <td>915.41</td>\n",
       "    </tr>\n",
       "    <tr>\n",
       "      <th>1</th>\n",
       "      <td>Bihar</td>\n",
       "      <td>13513.92</td>\n",
       "      <td>19857.70</td>\n",
       "      <td>404.43</td>\n",
       "      <td>42.95</td>\n",
       "    </tr>\n",
       "    <tr>\n",
       "      <th>2</th>\n",
       "      <td>Gujarat</td>\n",
       "      <td>79776.83</td>\n",
       "      <td>110820.34</td>\n",
       "      <td>7606.88</td>\n",
       "      <td>53.70</td>\n",
       "    </tr>\n",
       "    <tr>\n",
       "      <th>3</th>\n",
       "      <td>Haryana</td>\n",
       "      <td>44634.24</td>\n",
       "      <td>71525.72</td>\n",
       "      <td>3378.47</td>\n",
       "      <td>39.84</td>\n",
       "    </tr>\n",
       "    <tr>\n",
       "      <th>4</th>\n",
       "      <td>Karnataka</td>\n",
       "      <td>100129.18</td>\n",
       "      <td>149148.83</td>\n",
       "      <td>12102.17</td>\n",
       "      <td>1030.81</td>\n",
       "    </tr>\n",
       "    <tr>\n",
       "      <th>5</th>\n",
       "      <td>Madhya Pradesh</td>\n",
       "      <td>30954.72</td>\n",
       "      <td>57068.85</td>\n",
       "      <td>3641.79</td>\n",
       "      <td>46.82</td>\n",
       "    </tr>\n",
       "    <tr>\n",
       "      <th>6</th>\n",
       "      <td>Maharashtra</td>\n",
       "      <td>148360.96</td>\n",
       "      <td>210923.27</td>\n",
       "      <td>13169.10</td>\n",
       "      <td>789.50</td>\n",
       "    </tr>\n",
       "    <tr>\n",
       "      <th>7</th>\n",
       "      <td>Orissa</td>\n",
       "      <td>22961.59</td>\n",
       "      <td>34176.03</td>\n",
       "      <td>3329.18</td>\n",
       "      <td>35.43</td>\n",
       "    </tr>\n",
       "    <tr>\n",
       "      <th>8</th>\n",
       "      <td>Punjab</td>\n",
       "      <td>72147.43</td>\n",
       "      <td>131543.55</td>\n",
       "      <td>3478.42</td>\n",
       "      <td>131.63</td>\n",
       "    </tr>\n",
       "    <tr>\n",
       "      <th>9</th>\n",
       "      <td>Rajasthan</td>\n",
       "      <td>59683.16</td>\n",
       "      <td>90722.93</td>\n",
       "      <td>6443.97</td>\n",
       "      <td>85.17</td>\n",
       "    </tr>\n",
       "    <tr>\n",
       "      <th>10</th>\n",
       "      <td>Tamil Nadu</td>\n",
       "      <td>88842.92</td>\n",
       "      <td>119418.93</td>\n",
       "      <td>2443.79</td>\n",
       "      <td>1027.43</td>\n",
       "    </tr>\n",
       "    <tr>\n",
       "      <th>11</th>\n",
       "      <td>Uttar Pradesh</td>\n",
       "      <td>111576.63</td>\n",
       "      <td>193587.33</td>\n",
       "      <td>8403.25</td>\n",
       "      <td>568.52</td>\n",
       "    </tr>\n",
       "    <tr>\n",
       "      <th>12</th>\n",
       "      <td>West Bengal</td>\n",
       "      <td>24731.06</td>\n",
       "      <td>33046.12</td>\n",
       "      <td>731.25</td>\n",
       "      <td>39.04</td>\n",
       "    </tr>\n",
       "  </tbody>\n",
       "</table>\n",
       "</div>"
      ],
      "text/plain": [
       "             State  Cost of Cultivation (`/Hectare) A2+FL  \\\n",
       "0   Andhra Pradesh                              200500.69   \n",
       "1            Bihar                               13513.92   \n",
       "2          Gujarat                               79776.83   \n",
       "3          Haryana                               44634.24   \n",
       "4        Karnataka                              100129.18   \n",
       "5   Madhya Pradesh                               30954.72   \n",
       "6      Maharashtra                              148360.96   \n",
       "7           Orissa                               22961.59   \n",
       "8           Punjab                               72147.43   \n",
       "9        Rajasthan                               59683.16   \n",
       "10      Tamil Nadu                               88842.92   \n",
       "11   Uttar Pradesh                              111576.63   \n",
       "12     West Bengal                               24731.06   \n",
       "\n",
       "    Cost of Cultivation (`/Hectare) C2  Cost of Production (`/Quintal) C2  \\\n",
       "0                            315029.07                           14273.65   \n",
       "1                             19857.70                             404.43   \n",
       "2                            110820.34                            7606.88   \n",
       "3                             71525.72                            3378.47   \n",
       "4                            149148.83                           12102.17   \n",
       "5                             57068.85                            3641.79   \n",
       "6                            210923.27                           13169.10   \n",
       "7                             34176.03                            3329.18   \n",
       "8                            131543.55                            3478.42   \n",
       "9                             90722.93                            6443.97   \n",
       "10                           119418.93                            2443.79   \n",
       "11                           193587.33                            8403.25   \n",
       "12                            33046.12                             731.25   \n",
       "\n",
       "    Yield (Quintal/ Hectare)   \n",
       "0                      915.41  \n",
       "1                       42.95  \n",
       "2                       53.70  \n",
       "3                       39.84  \n",
       "4                     1030.81  \n",
       "5                       46.82  \n",
       "6                      789.50  \n",
       "7                       35.43  \n",
       "8                      131.63  \n",
       "9                       85.17  \n",
       "10                    1027.43  \n",
       "11                     568.52  \n",
       "12                      39.04  "
      ]
     },
     "execution_count": 14,
     "metadata": {},
     "output_type": "execute_result"
    }
   ],
   "source": [
    "# Group the data based on state\n",
    "df2 = df.groupby([\"State\"],as_index=False).sum()\n",
    "df2"
   ]
  },
  {
   "cell_type": "code",
   "execution_count": 15,
   "metadata": {},
   "outputs": [
    {
     "data": {
      "text/plain": [
       "<AxesSubplot:xlabel='State'>"
      ]
     },
     "execution_count": 15,
     "metadata": {},
     "output_type": "execute_result"
    },
    {
     "data": {
      "image/png": "[encoded data removed]",
      "text/plain": [
       "<Figure size 432x288 with 1 Axes>"
      ]
     },
     "metadata": {
      "needs_background": "light"
     },
     "output_type": "display_data"
    }
   ],
   "source": [
    "# Yield of each state\n",
    "df2.plot.bar(x='State', y='Yield (Quintal/ Hectare) ')"
   ]
  },
  {
   "cell_type": "code",
   "execution_count": 16,
   "metadata": {},
   "outputs": [
    {
     "data": {
      "text/plain": [
       "<AxesSubplot:xlabel='State'>"
      ]
     },
     "execution_count": 16,
     "metadata": {},
     "output_type": "execute_result"
    },
    {
     "data": {
      "image/png": "[encoded data removed]",
      "text/plain": [
       "<Figure size 432x288 with 1 Axes>"
      ]
     },
     "metadata": {
      "needs_background": "light"
     },
     "output_type": "display_data"
    }
   ],
   "source": [
    "# Production cost of each state\n",
    "df2.plot.bar(x='State', y='Cost of Production (`/Quintal) C2')"
   ]
  },
  {
   "cell_type": "code",
   "execution_count": 17,
   "metadata": {
    "scrolled": true
   },
   "outputs": [
    {
     "name": "stdout",
     "output_type": "stream",
     "text": [
      "   Andhra Pradesh  Bihar  Gujarat  Haryana  Karnataka  Madhya Pradesh  \\\n",
      "0               0      0        0        0          0               0   \n",
      "1               0      0        0        0          1               0   \n",
      "2               0      0        1        0          0               0   \n",
      "3               1      0        0        0          0               0   \n",
      "4               0      0        0        0          0               0   \n",
      "\n",
      "   Maharashtra  Orissa  Punjab  Rajasthan  Tamil Nadu  Uttar Pradesh  \\\n",
      "0            0       0       0          0           0              1   \n",
      "1            0       0       0          0           0              0   \n",
      "2            0       0       0          0           0              0   \n",
      "3            0       0       0          0           0              0   \n",
      "4            1       0       0          0           0              0   \n",
      "\n",
      "   West Bengal  \n",
      "0            0  \n",
      "1            0  \n",
      "2            0  \n",
      "3            0  \n",
      "4            0  \n"
     ]
    }
   ],
   "source": [
    "# Create dummy variables for the states\n",
    "state_dummy = pd.get_dummies(df.State)\n",
    "print(state_dummy.head())"
   ]
  },
  {
   "cell_type": "code",
   "execution_count": 18,
   "metadata": {},
   "outputs": [
    {
     "name": "stdout",
     "output_type": "stream",
     "text": [
      "   ARHAR  COTTON  GRAM  GROUNDNUT  MAIZE  MOONG  PADDY  RAPESEED AND MUSTARD  \\\n",
      "0      1       0     0          0      0      0      0                     0   \n",
      "1      1       0     0          0      0      0      0                     0   \n",
      "2      1       0     0          0      0      0      0                     0   \n",
      "3      1       0     0          0      0      0      0                     0   \n",
      "4      1       0     0          0      0      0      0                     0   \n",
      "\n",
      "   SUGARCANE  WHEAT  \n",
      "0          0      0  \n",
      "1          0      0  \n",
      "2          0      0  \n",
      "3          0      0  \n",
      "4          0      0  \n"
     ]
    }
   ],
   "source": [
    "# Create dummy variables for crop types\n",
    "Crop_dummy = pd.get_dummies(df.Crop)\n",
    "print(Crop_dummy.head())"
   ]
  },
  {
   "cell_type": "code",
   "execution_count": 19,
   "metadata": {},
   "outputs": [],
   "source": [
    "# Keep only the cost of production and the yield and drop the information not necessaty to create a model\n",
    "yield_cost =df.drop(['Cost of Cultivation (`/Hectare) A2+FL', 'Cost of Cultivation (`/Hectare) C2'], axis= 1)"
   ]
  },
  {
   "cell_type": "code",
   "execution_count": 20,
   "metadata": {},
   "outputs": [
    {
     "data": {
      "text/html": [
       "<div>\n",
       "<style scoped>\n",
       "    .dataframe tbody tr th:only-of-type {\n",
       "        vertical-align: middle;\n",
       "    }\n",
       "\n",
       "    .dataframe tbody tr th {\n",
       "        vertical-align: top;\n",
       "    }\n",
       "\n",
       "    .dataframe thead th {\n",
       "        text-align: right;\n",
       "    }\n",
       "</style>\n",
       "<table border=\"1\" class=\"dataframe\">\n",
       "  <thead>\n",
       "    <tr style=\"text-align: right;\">\n",
       "      <th></th>\n",
       "      <th>Cost of Production (`/Quintal) C2</th>\n",
       "      <th>Yield (Quintal/ Hectare)</th>\n",
       "      <th>Andhra Pradesh</th>\n",
       "      <th>Bihar</th>\n",
       "      <th>Gujarat</th>\n",
       "      <th>Haryana</th>\n",
       "      <th>Karnataka</th>\n",
       "      <th>Madhya Pradesh</th>\n",
       "      <th>Maharashtra</th>\n",
       "      <th>Orissa</th>\n",
       "      <th>...</th>\n",
       "      <th>ARHAR</th>\n",
       "      <th>COTTON</th>\n",
       "      <th>GRAM</th>\n",
       "      <th>GROUNDNUT</th>\n",
       "      <th>MAIZE</th>\n",
       "      <th>MOONG</th>\n",
       "      <th>PADDY</th>\n",
       "      <th>RAPESEED AND MUSTARD</th>\n",
       "      <th>SUGARCANE</th>\n",
       "      <th>WHEAT</th>\n",
       "    </tr>\n",
       "  </thead>\n",
       "  <tbody>\n",
       "    <tr>\n",
       "      <th>0</th>\n",
       "      <td>1941.55</td>\n",
       "      <td>9.83</td>\n",
       "      <td>0</td>\n",
       "      <td>0</td>\n",
       "      <td>0</td>\n",
       "      <td>0</td>\n",
       "      <td>0</td>\n",
       "      <td>0</td>\n",
       "      <td>0</td>\n",
       "      <td>0</td>\n",
       "      <td>...</td>\n",
       "      <td>1</td>\n",
       "      <td>0</td>\n",
       "      <td>0</td>\n",
       "      <td>0</td>\n",
       "      <td>0</td>\n",
       "      <td>0</td>\n",
       "      <td>0</td>\n",
       "      <td>0</td>\n",
       "      <td>0</td>\n",
       "      <td>0</td>\n",
       "    </tr>\n",
       "    <tr>\n",
       "      <th>1</th>\n",
       "      <td>2172.46</td>\n",
       "      <td>7.47</td>\n",
       "      <td>0</td>\n",
       "      <td>0</td>\n",
       "      <td>0</td>\n",
       "      <td>0</td>\n",
       "      <td>1</td>\n",
       "      <td>0</td>\n",
       "      <td>0</td>\n",
       "      <td>0</td>\n",
       "      <td>...</td>\n",
       "      <td>1</td>\n",
       "      <td>0</td>\n",
       "      <td>0</td>\n",
       "      <td>0</td>\n",
       "      <td>0</td>\n",
       "      <td>0</td>\n",
       "      <td>0</td>\n",
       "      <td>0</td>\n",
       "      <td>0</td>\n",
       "      <td>0</td>\n",
       "    </tr>\n",
       "    <tr>\n",
       "      <th>2</th>\n",
       "      <td>1898.30</td>\n",
       "      <td>9.59</td>\n",
       "      <td>0</td>\n",
       "      <td>0</td>\n",
       "      <td>1</td>\n",
       "      <td>0</td>\n",
       "      <td>0</td>\n",
       "      <td>0</td>\n",
       "      <td>0</td>\n",
       "      <td>0</td>\n",
       "      <td>...</td>\n",
       "      <td>1</td>\n",
       "      <td>0</td>\n",
       "      <td>0</td>\n",
       "      <td>0</td>\n",
       "      <td>0</td>\n",
       "      <td>0</td>\n",
       "      <td>0</td>\n",
       "      <td>0</td>\n",
       "      <td>0</td>\n",
       "      <td>0</td>\n",
       "    </tr>\n",
       "    <tr>\n",
       "      <th>3</th>\n",
       "      <td>3670.54</td>\n",
       "      <td>6.42</td>\n",
       "      <td>1</td>\n",
       "      <td>0</td>\n",
       "      <td>0</td>\n",
       "      <td>0</td>\n",
       "      <td>0</td>\n",
       "      <td>0</td>\n",
       "      <td>0</td>\n",
       "      <td>0</td>\n",
       "      <td>...</td>\n",
       "      <td>1</td>\n",
       "      <td>0</td>\n",
       "      <td>0</td>\n",
       "      <td>0</td>\n",
       "      <td>0</td>\n",
       "      <td>0</td>\n",
       "      <td>0</td>\n",
       "      <td>0</td>\n",
       "      <td>0</td>\n",
       "      <td>0</td>\n",
       "    </tr>\n",
       "    <tr>\n",
       "      <th>4</th>\n",
       "      <td>2775.80</td>\n",
       "      <td>8.72</td>\n",
       "      <td>0</td>\n",
       "      <td>0</td>\n",
       "      <td>0</td>\n",
       "      <td>0</td>\n",
       "      <td>0</td>\n",
       "      <td>0</td>\n",
       "      <td>1</td>\n",
       "      <td>0</td>\n",
       "      <td>...</td>\n",
       "      <td>1</td>\n",
       "      <td>0</td>\n",
       "      <td>0</td>\n",
       "      <td>0</td>\n",
       "      <td>0</td>\n",
       "      <td>0</td>\n",
       "      <td>0</td>\n",
       "      <td>0</td>\n",
       "      <td>0</td>\n",
       "      <td>0</td>\n",
       "    </tr>\n",
       "  </tbody>\n",
       "</table>\n",
       "<p>5 rows × 25 columns</p>\n",
       "</div>"
      ],
      "text/plain": [
       "   Cost of Production (`/Quintal) C2  Yield (Quintal/ Hectare)   \\\n",
       "0                            1941.55                       9.83   \n",
       "1                            2172.46                       7.47   \n",
       "2                            1898.30                       9.59   \n",
       "3                            3670.54                       6.42   \n",
       "4                            2775.80                       8.72   \n",
       "\n",
       "   Andhra Pradesh  Bihar  Gujarat  Haryana  Karnataka  Madhya Pradesh  \\\n",
       "0               0      0        0        0          0               0   \n",
       "1               0      0        0        0          1               0   \n",
       "2               0      0        1        0          0               0   \n",
       "3               1      0        0        0          0               0   \n",
       "4               0      0        0        0          0               0   \n",
       "\n",
       "   Maharashtra  Orissa  ...  ARHAR  COTTON  GRAM  GROUNDNUT  MAIZE  MOONG  \\\n",
       "0            0       0  ...      1       0     0          0      0      0   \n",
       "1            0       0  ...      1       0     0          0      0      0   \n",
       "2            0       0  ...      1       0     0          0      0      0   \n",
       "3            0       0  ...      1       0     0          0      0      0   \n",
       "4            1       0  ...      1       0     0          0      0      0   \n",
       "\n",
       "   PADDY  RAPESEED AND MUSTARD  SUGARCANE  WHEAT  \n",
       "0      0                     0          0      0  \n",
       "1      0                     0          0      0  \n",
       "2      0                     0          0      0  \n",
       "3      0                     0          0      0  \n",
       "4      0                     0          0      0  \n",
       "\n",
       "[5 rows x 25 columns]"
      ]
     },
     "execution_count": 20,
     "metadata": {},
     "output_type": "execute_result"
    }
   ],
   "source": [
    "# Join the dummy variables created for the categorical variables\n",
    "yield_cost= pd.concat([yield_cost,state_dummy, Crop_dummy], axis= 1)\n",
    "yield_cost = yield_cost.drop(['Crop', 'State'], axis= 1)\n",
    "yield_cost.head()"
   ]
  },
  {
   "cell_type": "code",
   "execution_count": 21,
   "metadata": {},
   "outputs": [],
   "source": [
    "# Create independent and dependent variables\n",
    "X = yield_cost.drop(['Cost of Production (`/Quintal) C2'], axis =1)\n",
    "y = yield_cost['Cost of Production (`/Quintal) C2']"
   ]
  },
  {
   "cell_type": "code",
   "execution_count": null,
   "metadata": {},
   "outputs": [],
   "source": []
  }
 ],
 "metadata": {
  "kernelspec": {
   "display_name": "Python 3",
   "language": "python",
   "name": "python3"
  },
  "language_info": {
   "codemirror_mode": {
    "name": "ipython",
    "version": 3
   },
   "file_extension": ".py",
   "mimetype": "text/x-python",
   "name": "python",
   "nbconvert_exporter": "python",
   "pygments_lexer": "ipython3",
   "version": "3.8.5"
  }
 },
 "nbformat": 4,
 "nbformat_minor": 2
}
